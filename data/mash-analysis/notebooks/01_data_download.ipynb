{
 "cells": [
  {
   "cell_type": "markdown",
   "metadata": {},
   "source": [
    "# Data Download\n",
    "\n",
    "This notebook is responsible for downloading the GSE167523 dataset and storing it in the appropriate directory."
   ]
  },
  {
   "cell_type": "code",
   "execution_count": null,
   "metadata": {},
   "outputs": [],
   "source": [
    "import GEOparse\n",
    "import os\n",
    "\n",
    "# Define the directory to save the raw data\n",
    "data_dir = 'data/raw/GSE167523'\n",
    "\n",
    "# Create the directory if it doesn't exist\n",
    "os.makedirs(data_dir, exist_ok=True)\n",
    "\n",
    "# Download the GEO dataset\n",
    "gse = GEOparse.get_GEO(geo='GSE167523')\n",
    "\n",
    "# Save the dataset to the specified directory\n",
    "gse.save(data_dir)\n",
    "\n",
    "print(f'Dataset GSE167523 downloaded and saved to {data_dir}')"
   ]
  }
 ],
 "metadata": {
  "kernelspec": {
   "display_name": "Python 3",
   "language": "python",
   "name": "python3"
  },
  "language_info": {
   "codemirror_mode": {
    "name": "ipython",
    "version": 3
   },
   "file_extension": ".py",
   "mimetype": "text/x-python",
   "name": "python",
   "nbconvert_exporter": "python",
   "pygments_lexer": "ipython3",
   "version": "3.8.5"
  }
 },
 "nbformat": 4,
 "nbformat_minor": 4
}